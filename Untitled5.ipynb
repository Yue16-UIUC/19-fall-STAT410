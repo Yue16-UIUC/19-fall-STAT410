{
  "nbformat": 4,
  "nbformat_minor": 0,
  "metadata": {
    "colab": {
      "name": "Untitled5.ipynb",
      "provenance": [],
      "authorship_tag": "ABX9TyOVyDwmWiECD7UOPJrrM9rd",
      "include_colab_link": true
    },
    "kernelspec": {
      "name": "python3",
      "display_name": "Python 3"
    }
  },
  "cells": [
    {
      "cell_type": "markdown",
      "metadata": {
        "id": "view-in-github",
        "colab_type": "text"
      },
      "source": [
        "<a href=\"https://colab.research.google.com/github/Yue16-UIUC/19-fall-STAT410/blob/master/Untitled5.ipynb\" target=\"_parent\"><img src=\"https://colab.research.google.com/assets/colab-badge.svg\" alt=\"Open In Colab\"/></a>"
      ]
    },
    {
      "cell_type": "code",
      "metadata": {
        "id": "2papCDkj81Zq",
        "colab_type": "code",
        "colab": {}
      },
      "source": [
        "#Import OS module to fetch the work directory\n",
        "import os"
      ],
      "execution_count": 1,
      "outputs": []
    },
    {
      "cell_type": "code",
      "metadata": {
        "id": "6UPpTZL9ROMo",
        "colab_type": "code",
        "colab": {
          "base_uri": "https://localhost:8080/",
          "height": 34
        },
        "outputId": "cc74766d-7f15-459a-ca96-7f49216c5017"
      },
      "source": [
        "#Fetch the work directory\n",
        "os.getcwd()\n",
        "work_path=os.getcwd()+'/'+'Conversion.csv'\n",
        "print(work_path)"
      ],
      "execution_count": 2,
      "outputs": [
        {
          "output_type": "stream",
          "text": [
            "/content/Conversion.csv\n"
          ],
          "name": "stdout"
        }
      ]
    },
    {
      "cell_type": "code",
      "metadata": {
        "id": "B4fK9L849rIc",
        "colab_type": "code",
        "colab": {}
      },
      "source": [
        "#Import the datascience package\n",
        "from datascience import *"
      ],
      "execution_count": 4,
      "outputs": []
    },
    {
      "cell_type": "code",
      "metadata": {
        "id": "zkVBTYGQ96Ga",
        "colab_type": "code",
        "colab": {
          "base_uri": "https://localhost:8080/",
          "height": 372
        },
        "outputId": "c55f058f-173e-4c97-cf88-951e04b852b5"
      },
      "source": [
        "#Question 1\n",
        "#Read the dataset, output column number, row number and labels\n",
        "cvs_data=Table.read_table(work_path)\n",
        "cvs_data"
      ],
      "execution_count": 6,
      "outputs": [
        {
          "output_type": "execute_result",
          "data": {
            "text/html": [
              "<table border=\"1\" class=\"dataframe\">\n",
              "    <thead>\n",
              "        <tr>\n",
              "            <th>country</th> <th>age</th> <th>new_user</th> <th>source</th> <th>total_pages_visited</th> <th>converted</th>\n",
              "        </tr>\n",
              "    </thead>\n",
              "    <tbody>\n",
              "        <tr>\n",
              "            <td>UK     </td> <td>105 </td> <td>1       </td> <td>Ads   </td> <td>1                  </td> <td>0        </td>\n",
              "        </tr>\n",
              "        <tr>\n",
              "            <td>US     </td> <td>23  </td> <td>1       </td> <td>Seo   </td> <td>5                  </td> <td>0        </td>\n",
              "        </tr>\n",
              "        <tr>\n",
              "            <td>US     </td> <td>280 </td> <td>1       </td> <td>Seo   </td> <td>4                  </td> <td>0        </td>\n",
              "        </tr>\n",
              "        <tr>\n",
              "            <td>China  </td> <td>39  </td> <td>1       </td> <td>Seo   </td> <td>5                  </td> <td>0        </td>\n",
              "        </tr>\n",
              "        <tr>\n",
              "            <td>US     </td> <td>30  </td> <td>1       </td> <td>Seo   </td> <td>6                  </td> <td>0        </td>\n",
              "        </tr>\n",
              "        <tr>\n",
              "            <td>US     </td> <td>31  </td> <td>0       </td> <td>Seo   </td> <td>1                  </td> <td>0        </td>\n",
              "        </tr>\n",
              "        <tr>\n",
              "            <td>China  </td> <td>27  </td> <td>1       </td> <td>Seo   </td> <td>4                  </td> <td>0        </td>\n",
              "        </tr>\n",
              "        <tr>\n",
              "            <td>US     </td> <td>23  </td> <td>0       </td> <td>Ads   </td> <td>4                  </td> <td>0        </td>\n",
              "        </tr>\n",
              "        <tr>\n",
              "            <td>UK     </td> <td>29  </td> <td>0       </td> <td>Direct</td> <td>4                  </td> <td>0        </td>\n",
              "        </tr>\n",
              "        <tr>\n",
              "            <td>US     </td> <td>25  </td> <td>0       </td> <td>Ads   </td> <td>2                  </td> <td>0        </td>\n",
              "        </tr>\n",
              "    </tbody>\n",
              "</table>\n",
              "<p>... (489 rows omitted)</p>"
            ],
            "text/plain": [
              "country | age  | new_user | source | total_pages_visited | converted\n",
              "UK      | 105  | 1        | Ads    | 1                   | 0\n",
              "US      | 23   | 1        | Seo    | 5                   | 0\n",
              "US      | 280  | 1        | Seo    | 4                   | 0\n",
              "China   | 39   | 1        | Seo    | 5                   | 0\n",
              "US      | 30   | 1        | Seo    | 6                   | 0\n",
              "US      | 31   | 0        | Seo    | 1                   | 0\n",
              "China   | 27   | 1        | Seo    | 4                   | 0\n",
              "US      | 23   | 0        | Ads    | 4                   | 0\n",
              "UK      | 29   | 0        | Direct | 4                   | 0\n",
              "US      | 25   | 0        | Ads    | 2                   | 0\n",
              "... (489 rows omitted)"
            ]
          },
          "metadata": {
            "tags": []
          },
          "execution_count": 6
        }
      ]
    },
    {
      "cell_type": "code",
      "metadata": {
        "id": "pRSl9WwA-R16",
        "colab_type": "code",
        "colab": {
          "base_uri": "https://localhost:8080/",
          "height": 34
        },
        "outputId": "6054e11b-b70c-4ebf-f7ff-423b1fd2bd8a"
      },
      "source": [
        "#Show me the column number\n",
        "cvs_data.num_columns"
      ],
      "execution_count": 7,
      "outputs": [
        {
          "output_type": "execute_result",
          "data": {
            "text/plain": [
              "6"
            ]
          },
          "metadata": {
            "tags": []
          },
          "execution_count": 7
        }
      ]
    },
    {
      "cell_type": "code",
      "metadata": {
        "id": "8R-3JA99-nIX",
        "colab_type": "code",
        "colab": {
          "base_uri": "https://localhost:8080/",
          "height": 34
        },
        "outputId": "c76e7d48-52e4-494b-d965-76f66c0f439a"
      },
      "source": [
        "#Show me the row number\n",
        "cvs_data.num_rows"
      ],
      "execution_count": 8,
      "outputs": [
        {
          "output_type": "execute_result",
          "data": {
            "text/plain": [
              "499"
            ]
          },
          "metadata": {
            "tags": []
          },
          "execution_count": 8
        }
      ]
    },
    {
      "cell_type": "code",
      "metadata": {
        "id": "ayr6qwQC-rT8",
        "colab_type": "code",
        "colab": {
          "base_uri": "https://localhost:8080/",
          "height": 34
        },
        "outputId": "8f4992f4-8b19-4f73-e823-d50a0d9aeb8a"
      },
      "source": [
        "#Shoe me the lables\n",
        "cvs_data.labels"
      ],
      "execution_count": 9,
      "outputs": [
        {
          "output_type": "execute_result",
          "data": {
            "text/plain": [
              "('country', 'age', 'new_user', 'source', 'total_pages_visited', 'converted')"
            ]
          },
          "metadata": {
            "tags": []
          },
          "execution_count": 9
        }
      ]
    },
    {
      "cell_type": "code",
      "metadata": {
        "id": "jbtaAlyS-xtN",
        "colab_type": "code",
        "colab": {
          "base_uri": "https://localhost:8080/",
          "height": 34
        },
        "outputId": "29b488c2-fd28-4ca4-ee9e-5ae0a479fd24"
      },
      "source": [
        "print(\"There are \",cvs_data.num_columns,\"columns, \",cvs_data.num_rows,\"rows and column labels are\",cvs_data.labels)"
      ],
      "execution_count": 10,
      "outputs": [
        {
          "output_type": "stream",
          "text": [
            "There are  6 columns,  499 rows and column labels are ('country', 'age', 'new_user', 'source', 'total_pages_visited', 'converted')\n"
          ],
          "name": "stdout"
        }
      ]
    },
    {
      "cell_type": "code",
      "metadata": {
        "id": "rTsU7WNj_Jzr",
        "colab_type": "code",
        "colab": {
          "base_uri": "https://localhost:8080/",
          "height": 372
        },
        "outputId": "e1bce012-2e8e-4931-b57b-37bc08a337ab"
      },
      "source": [
        "#Question 2: make a new table where all ages less than 100.\n",
        "#Output the top 6 oldest users from US\n",
        "#The new table\n",
        "cvs_data_q2=cvs_data.where(cvs_data['age']<100)\n",
        "cvs_data_q2"
      ],
      "execution_count": 12,
      "outputs": [
        {
          "output_type": "execute_result",
          "data": {
            "text/html": [
              "<table border=\"1\" class=\"dataframe\">\n",
              "    <thead>\n",
              "        <tr>\n",
              "            <th>country</th> <th>age</th> <th>new_user</th> <th>source</th> <th>total_pages_visited</th> <th>converted</th>\n",
              "        </tr>\n",
              "    </thead>\n",
              "    <tbody>\n",
              "        <tr>\n",
              "            <td>US     </td> <td>23  </td> <td>1       </td> <td>Seo   </td> <td>5                  </td> <td>0        </td>\n",
              "        </tr>\n",
              "        <tr>\n",
              "            <td>China  </td> <td>39  </td> <td>1       </td> <td>Seo   </td> <td>5                  </td> <td>0        </td>\n",
              "        </tr>\n",
              "        <tr>\n",
              "            <td>US     </td> <td>30  </td> <td>1       </td> <td>Seo   </td> <td>6                  </td> <td>0        </td>\n",
              "        </tr>\n",
              "        <tr>\n",
              "            <td>US     </td> <td>31  </td> <td>0       </td> <td>Seo   </td> <td>1                  </td> <td>0        </td>\n",
              "        </tr>\n",
              "        <tr>\n",
              "            <td>China  </td> <td>27  </td> <td>1       </td> <td>Seo   </td> <td>4                  </td> <td>0        </td>\n",
              "        </tr>\n",
              "        <tr>\n",
              "            <td>US     </td> <td>23  </td> <td>0       </td> <td>Ads   </td> <td>4                  </td> <td>0        </td>\n",
              "        </tr>\n",
              "        <tr>\n",
              "            <td>UK     </td> <td>29  </td> <td>0       </td> <td>Direct</td> <td>4                  </td> <td>0        </td>\n",
              "        </tr>\n",
              "        <tr>\n",
              "            <td>US     </td> <td>25  </td> <td>0       </td> <td>Ads   </td> <td>2                  </td> <td>0        </td>\n",
              "        </tr>\n",
              "        <tr>\n",
              "            <td>US     </td> <td>38  </td> <td>0       </td> <td>Seo   </td> <td>1                  </td> <td>0        </td>\n",
              "        </tr>\n",
              "        <tr>\n",
              "            <td>US     </td> <td>43  </td> <td>1       </td> <td>Direct</td> <td>8                  </td> <td>0        </td>\n",
              "        </tr>\n",
              "    </tbody>\n",
              "</table>\n",
              "<p>... (486 rows omitted)</p>"
            ],
            "text/plain": [
              "country | age  | new_user | source | total_pages_visited | converted\n",
              "US      | 23   | 1        | Seo    | 5                   | 0\n",
              "China   | 39   | 1        | Seo    | 5                   | 0\n",
              "US      | 30   | 1        | Seo    | 6                   | 0\n",
              "US      | 31   | 0        | Seo    | 1                   | 0\n",
              "China   | 27   | 1        | Seo    | 4                   | 0\n",
              "US      | 23   | 0        | Ads    | 4                   | 0\n",
              "UK      | 29   | 0        | Direct | 4                   | 0\n",
              "US      | 25   | 0        | Ads    | 2                   | 0\n",
              "US      | 38   | 0        | Seo    | 1                   | 0\n",
              "US      | 43   | 1        | Direct | 8                   | 0\n",
              "... (486 rows omitted)"
            ]
          },
          "metadata": {
            "tags": []
          },
          "execution_count": 12
        }
      ]
    },
    {
      "cell_type": "code",
      "metadata": {
        "id": "QArdR-N7AFgm",
        "colab_type": "code",
        "colab": {
          "base_uri": "https://localhost:8080/",
          "height": 254
        },
        "outputId": "a934fd99-146b-4eeb-9954-19e198cee27a"
      },
      "source": [
        "#Top 6 oldest users from US\n",
        "cvs_data_q2.where(cvs_data_q2['country']=='US').sort(\"age\",descending=True).show(6)"
      ],
      "execution_count": 13,
      "outputs": [
        {
          "output_type": "display_data",
          "data": {
            "text/html": [
              "<table border=\"1\" class=\"dataframe\">\n",
              "    <thead>\n",
              "        <tr>\n",
              "            <th>country</th> <th>age</th> <th>new_user</th> <th>source</th> <th>total_pages_visited</th> <th>converted</th>\n",
              "        </tr>\n",
              "    </thead>\n",
              "    <tbody>\n",
              "        <tr>\n",
              "            <td>US     </td> <td>90  </td> <td>0       </td> <td>Seo   </td> <td>4                  </td> <td>0        </td>\n",
              "        </tr>\n",
              "        <tr>\n",
              "            <td>US     </td> <td>87  </td> <td>0       </td> <td>Ads   </td> <td>7                  </td> <td>0        </td>\n",
              "        </tr>\n",
              "        <tr>\n",
              "            <td>US     </td> <td>67  </td> <td>1       </td> <td>Seo   </td> <td>7                  </td> <td>0        </td>\n",
              "        </tr>\n",
              "        <tr>\n",
              "            <td>US     </td> <td>67  </td> <td>1       </td> <td>Seo   </td> <td>8                  </td> <td>0        </td>\n",
              "        </tr>\n",
              "        <tr>\n",
              "            <td>US     </td> <td>56  </td> <td>0       </td> <td>Direct</td> <td>4                  </td> <td>0        </td>\n",
              "        </tr>\n",
              "        <tr>\n",
              "            <td>US     </td> <td>56  </td> <td>0       </td> <td>Seo   </td> <td>10                 </td> <td>0        </td>\n",
              "        </tr>\n",
              "    </tbody>\n",
              "</table>\n",
              "<p>... (291 rows omitted)</p>"
            ],
            "text/plain": [
              "<IPython.core.display.HTML object>"
            ]
          },
          "metadata": {
            "tags": []
          }
        }
      ]
    },
    {
      "cell_type": "code",
      "metadata": {
        "id": "gYgSvbAhAgIr",
        "colab_type": "code",
        "colab": {
          "base_uri": "https://localhost:8080/",
          "height": 166
        },
        "outputId": "ca373727-a4a2-4b55-e0fa-f5bc8dbeb4f3"
      },
      "source": [
        "#Question 3: Output the average user's age for each country\n",
        "#Keep the average as two decimal places\n",
        "#2 columns with 5 rows\n",
        "\n",
        "#Group the country and count user numbers\n",
        "user_num_by_country=cvs_data_q2.group(\"country\")\n",
        "count_by_country=user_num_by_country['count']\n",
        "country_names=user_num_by_country['country']\n",
        "#Calculate the sum for ages by country\n",
        "age_sum_by_country=cvs_data_q2.group(\"country\",sum)['age sum']\n",
        "\n",
        "#Calculate the mean ages by country\n",
        "mean_age_by_country=age_sum_by_country/count_by_country\n",
        "#Keep it to two decimal\n",
        "for num in range(0,4):\n",
        "  mean_age_by_country[num]=round(mean_age_by_country[num],2)\n",
        "#It can be improved with numpy. I just choose the stupid way.\n",
        "\n",
        "#Making it a new table\n",
        "cvs_data_q3=Table().with_columns(\n",
        "    'Country',country_names,\n",
        "    'AvgAge',mean_age_by_country\n",
        ")\n",
        "cvs_data_q3"
      ],
      "execution_count": 15,
      "outputs": [
        {
          "output_type": "execute_result",
          "data": {
            "text/html": [
              "<table border=\"1\" class=\"dataframe\">\n",
              "    <thead>\n",
              "        <tr>\n",
              "            <th>Country</th> <th>AvgAge</th>\n",
              "        </tr>\n",
              "    </thead>\n",
              "    <tbody>\n",
              "        <tr>\n",
              "            <td>China  </td> <td>30.74 </td>\n",
              "        </tr>\n",
              "        <tr>\n",
              "            <td>Germany</td> <td>30.85 </td>\n",
              "        </tr>\n",
              "        <tr>\n",
              "            <td>UK     </td> <td>27.59 </td>\n",
              "        </tr>\n",
              "        <tr>\n",
              "            <td>US     </td> <td>31.49 </td>\n",
              "        </tr>\n",
              "    </tbody>\n",
              "</table>"
            ],
            "text/plain": [
              "Country | AvgAge\n",
              "China   | 30.74\n",
              "Germany | 30.85\n",
              "UK      | 27.59\n",
              "US      | 31.49"
            ]
          },
          "metadata": {
            "tags": []
          },
          "execution_count": 15
        }
      ]
    },
    {
      "cell_type": "code",
      "metadata": {
        "id": "0U13uMohCv9w",
        "colab_type": "code",
        "colab": {
          "base_uri": "https://localhost:8080/",
          "height": 295
        },
        "outputId": "88db7310-91f6-46b4-9fa8-2fae8c779798"
      },
      "source": [
        "#Question 4\n",
        "#Draw a bar plot to show the average age of users for each country\n",
        "#Import necessary package\n",
        "import matplotlib.pyplot as plt\n",
        "%matplotlib inline\n",
        "import numpy\n",
        "avgagelist=cvs_data_q3['AvgAge'].tolist()\n",
        "countrylist=cvs_data_q3['Country'].tolist()\n",
        "plt.bar(countrylist,avgagelist)\n",
        "plt.xlabel(\"Country\")\n",
        "plt.ylabel(\"Avg Age\")\n",
        "plt.title(\"Avg Age for Countries\")\n",
        "plt.show()"
      ],
      "execution_count": 35,
      "outputs": [
        {
          "output_type": "display_data",
          "data": {
            "image/png": "[encoded data removed]",
            "text/plain": [
              "<Figure size 432x288 with 1 Axes>"
            ]
          },
          "metadata": {
            "tags": [],
            "needs_background": "light"
          }
        }
      ]
    }
  ]
}